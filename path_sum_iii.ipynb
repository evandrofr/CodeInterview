{
 "cells": [
  {
   "cell_type": "code",
   "execution_count": 1,
   "metadata": {},
   "outputs": [],
   "source": [
    "class TreeNode:\n",
    "    def __init__(self, val=0, left=None, right=None):\n",
    "        self.val = val\n",
    "        self.left = left\n",
    "        self.right = right"
   ]
  },
  {
   "cell_type": "code",
   "execution_count": 4,
   "metadata": {},
   "outputs": [],
   "source": [
    "from typing import Optional\n",
    "\n",
    "\n",
    "class Solution:\n",
    "    def pathSum(self, root: Optional[TreeNode], targetSum: int) -> int:\n",
    "        pass"
   ]
  },
  {
   "cell_type": "code",
   "execution_count": 5,
   "metadata": {},
   "outputs": [
    {
     "data": {
      "text/plain": [
       "[1, 2, 3, 4]"
      ]
     },
     "execution_count": 5,
     "metadata": {},
     "output_type": "execute_result"
    }
   ],
   "source": [
    "5\n",
    "[5]\n",
    "4\n",
    "[5, 9]\n",
    "11\n",
    "[5, 9, 20]\n",
    "7\n",
    "[5, 9, 20, 27]\n",
    "2\n",
    "[5, 9, 20, 22]\n",
    "8\n",
    "[5, 13]\n",
    "13\n",
    "[5, 13, 26]\n",
    "4\n",
    "[5, 13, 17]\n",
    "5\n",
    "[5, 13, 17, 22]\n",
    "1\n",
    "[5, 13, 17, 18]"
   ]
  },
  {
   "cell_type": "code",
   "execution_count": 6,
   "metadata": {},
   "outputs": [
    {
     "data": {
      "text/plain": [
       "[1, 2, 3, 4, 5]"
      ]
     },
     "execution_count": 6,
     "metadata": {},
     "output_type": "execute_result"
    }
   ],
   "source": [
    "class Solution:\n",
    "    def pathSum(self, root: Optional[TreeNode], targetSum: int) -> int:\n",
    "        count = 0\n",
    "        def sum_path(node: TreeNode, acc_list: List[int]):\n",
    "            nonlocal count\n",
    "            for acc in acc_list[:-1]:\n",
    "                if acc_list[-1] - acc == targetSum:\n",
    "                    count += 1 \n",
    "            if node.left:\n",
    "                sum_path(node=node.left, acc_list=acc_list.copy() + [acc_list[-1] + node.left.val])\n",
    "            if node.right:\n",
    "                sum_path(node=node.right, acc_list=acc_list.copy() + [acc_list[-1] + node.right.val])\n",
    "        sum_path(root, [root.val])\n",
    "        return count"
   ]
  }
 ],
 "metadata": {
  "kernelspec": {
   "display_name": "Python 3.9.10 64-bit",
   "language": "python",
   "name": "python3"
  },
  "language_info": {
   "codemirror_mode": {
    "name": "ipython",
    "version": 3
   },
   "file_extension": ".py",
   "mimetype": "text/x-python",
   "name": "python",
   "nbconvert_exporter": "python",
   "pygments_lexer": "ipython3",
   "version": "3.9.10"
  },
  "orig_nbformat": 4,
  "vscode": {
   "interpreter": {
    "hash": "11938c6bc6919ae2720b4d5011047913343b08a43b18698fd82dedb0d4417594"
   }
  }
 },
 "nbformat": 4,
 "nbformat_minor": 2
}
